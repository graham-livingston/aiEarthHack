{
 "cells": [
  {
   "cell_type": "code",
   "execution_count": null,
   "metadata": {},
   "outputs": [],
   "source": [
    "business_idea = 'A company that provides a service to help people find the best deals on flights. The company would have a website where users can enter their travel dates and destinations. The website would then search for the best deals on flights and display them to the user. The user would then be able to book the flight through the website. The company would make money by charging a fee for each flight booked through the website. The company would also make money by selling advertising space on the website.'\n",
    "\n",
    "prompt = f'Analyze the following business idea according to specified rules and create a detailed JSON representation. The JSON should include resource states, processes, citations, and questions where details are unclear or missing.\n",
    "\\nBusiness Idea Description: {business_idea}\\nRules for JSON Structure:\n",
    "\\nResource States:\n",
    "\\n\\tList every state of resources involved in the business.\n",
    "\\n\\tUse odd numbers for indexing each resource state.\n",
    "\\n\\tInclude a description and direct quotes from the provided text for each state.\n",
    "\\n\\tDetermine \"start\" and \"end\" indices for each citation, indicating the position of the quoted text.\n",
    "\\nProcesses:\n",
    "\\n\\tDetail every process that transforms or interacts with the resources.\n",
    "\\n\\tUse even numbers for indexing processes.\n",
    "\\n\\tInclude a \"quotes\" section with details on \"who\", \"what\", \"where\", and \"how\" for each process.\n",
    "\\n\\tIf the \"how\" aspect is not explicitly described, leave it as a question.\n",
    "\\nCitations:\n",
    "\\n\\tProvide citations for both resources and processes.\n",
    "\\n\\tCitations should include the relevant text snippet and accurate \"start\" and \"end\" indices.\n",
    "\\nQuestions for Unspecified Details:\n",
    "\\n\\tIf certain aspects (who, what, where, how) of a process are not clearly described, add a \"questions\" section at the same level as \"quotes\".\n",
    "\\n\\tFormulate questions that, if answered, would provide the missing details.\n",
    "\\nUndefined States or Processes:\n",
    "\\n\\tIf the text does not define a subsequent resource state or process, create a placeholder in the JSON.\n",
    "\\n\\tFrame relevant questions for these undefined parts.\n",
    "\\nBest Practices for Structuring the Business Idea:\n",
    "\\n\\tClarity and Sequential Order: Present the business idea in a clear, logical order.\n",
    "\\n\\tDetailing: Provide specific details about each process and resource state.\n",
    "\\n\\tComprehensive Descriptions: Ensure descriptions are detailed for accurate citation extraction.\n",
    "\\n\\tCoverage of Key Aspects: Make sure to cover who is involved, what the process entails, where it takes place, and how it is executed.'\n"
   ]
  },
  {
   "cell_type": "code",
   "execution_count": null,
   "metadata": {},
   "outputs": [],
   "source": [
    "import pandas as pd\n",
    "\n",
    "# Load the CSV data into a DataFrame\n",
    "df = pd.read_csv('cleandata.csv')\n",
    "\n",
    "# Iterate through the rows of the DataFrame\n",
    "for index, row in df.iterrows():\n",
    "    print(row)"
   ]
  }
 ],
 "metadata": {
  "language_info": {
   "name": "python"
  }
 },
 "nbformat": 4,
 "nbformat_minor": 2
}
